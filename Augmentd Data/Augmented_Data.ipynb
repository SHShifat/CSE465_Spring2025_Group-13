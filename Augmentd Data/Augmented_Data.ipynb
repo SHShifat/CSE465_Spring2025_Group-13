{
  "nbformat": 4,
  "nbformat_minor": 0,
  "metadata": {
    "colab": {
      "provenance": []
    },
    "kernelspec": {
      "name": "python3",
      "display_name": "Python 3"
    },
    "language_info": {
      "name": "python"
    }
  },
  "cells": [
    {
      "cell_type": "code",
      "execution_count": 1,
      "metadata": {
        "colab": {
          "base_uri": "https://localhost:8080/"
        },
        "id": "We4rlmqeEDVH",
        "outputId": "02f9157d-fba0-40d5-9bd0-b6092a322afe"
      },
      "outputs": [
        {
          "output_type": "stream",
          "name": "stdout",
          "text": [
            "Data augmentation complete. New size: 1895 rows (1458 original + 437 augmented)\n"
          ]
        },
        {
          "output_type": "stream",
          "name": "stderr",
          "text": [
            "<ipython-input-1-f0316a947b0e>:36: FutureWarning: Series.fillna with 'method' is deprecated and will raise in a future version. Use obj.ffill() or obj.bfill() instead.\n",
            "  aug_3['Sales'] = aug_3['Sales'].shift(1).fillna(method='bfill')\n"
          ]
        }
      ],
      "source": [
        "import pandas as pd\n",
        "import numpy as np\n",
        "\n",
        "df = pd.read_csv('/content/train.csv')\n",
        "df['Date'] = pd.to_datetime(df['Order Date'], dayfirst=True)\n",
        "df = df.sort_values('Date').reset_index(drop=True)\n",
        "\n",
        "daily_sales = df.groupby('Date')['Sales'].sum().reset_index()\n",
        "daily_sales.set_index('Date', inplace=True)\n",
        "daily_sales = daily_sales.asfreq('D')\n",
        "daily_sales['Sales'] = daily_sales['Sales'].fillna(daily_sales['Sales'].median())\n",
        "daily_sales['Sales'] = np.log1p(daily_sales['Sales'])  # Log transform\n",
        "daily_sales.reset_index(inplace=True)\n",
        "\n",
        "# Feature Engineering\n",
        "daily_sales['dayofweek'] = daily_sales['Date'].dt.dayofweek\n",
        "daily_sales['day']       = daily_sales['Date'].dt.day\n",
        "daily_sales['month']     = daily_sales['Date'].dt.month\n",
        "daily_sales['quarter']   = daily_sales['Date'].dt.quarter\n",
        "daily_sales['year']      = daily_sales['Date'].dt.year\n",
        "daily_sales['is_weekend'] = daily_sales['dayofweek'].isin([5, 6]).astype(int)\n",
        "\n",
        "\n",
        "# Data Augmentation\n",
        "\n",
        "augmented_data = daily_sales.copy()\n",
        "\n",
        "noise = np.random.normal(loc=0.0, scale=0.05, size=len(daily_sales))\n",
        "aug_1 = daily_sales.copy()\n",
        "aug_1['Sales'] = aug_1['Sales'] + noise\n",
        "\n",
        "aug_2 = daily_sales.copy()\n",
        "aug_2['Sales'] = aug_2['Sales'].rolling(window=3, min_periods=1).mean()\n",
        "\n",
        "aug_3 = daily_sales.copy()\n",
        "aug_3['Sales'] = aug_3['Sales'].shift(1).fillna(method='bfill')\n",
        "\n",
        "n_original = len(daily_sales)\n",
        "n_aug = int(0.3 * n_original)\n",
        "\n",
        "augmented = pd.concat([\n",
        "    aug_1.sample(n=n_aug // 3, random_state=42),\n",
        "    aug_2.sample(n=n_aug // 3, random_state=42),\n",
        "    aug_3.sample(n=n_aug - 2 * (n_aug // 3), random_state=42)\n",
        "])\n",
        "\n",
        "\n",
        "daily_sales_augmented = pd.concat([daily_sales, augmented]).sample(frac=1, random_state=42).reset_index(drop=True)\n",
        "\n",
        "print(f\"Data augmentation complete. New size: {len(daily_sales_augmented)} rows ({len(daily_sales)} original + {len(daily_sales_augmented) - len(daily_sales)} augmented)\")\n"
      ]
    },
    {
      "cell_type": "code",
      "source": [
        "import pandas as pd\n",
        "import numpy as np\n",
        "import os\n",
        "\n",
        "df = pd.read_csv('/content/train.csv')\n",
        "df['Date'] = pd.to_datetime(df['Order Date'], dayfirst=True)\n",
        "df = df.sort_values('Date').reset_index(drop=True)\n",
        "\n",
        "daily_sales = df.groupby('Date')['Sales'].sum().reset_index()\n",
        "daily_sales.set_index('Date', inplace=True)\n",
        "daily_sales = daily_sales.asfreq('D')\n",
        "daily_sales['Sales'] = daily_sales['Sales'].fillna(daily_sales['Sales'].median())\n",
        "daily_sales['Sales'] = np.log1p(daily_sales['Sales'])  # log transform\n",
        "daily_sales.reset_index(inplace=True)\n",
        "\n",
        "daily_sales['dayofweek']  = daily_sales['Date'].dt.dayofweek\n",
        "daily_sales['day']        = daily_sales['Date'].dt.day\n",
        "daily_sales['month']      = daily_sales['Date'].dt.month\n",
        "daily_sales['quarter']    = daily_sales['Date'].dt.quarter\n",
        "daily_sales['year']       = daily_sales['Date'].dt.year\n",
        "daily_sales['is_weekend'] = daily_sales['dayofweek'].isin([5,6]).astype(int)\n",
        "\n",
        "\n",
        "aug_noise = daily_sales.copy()\n",
        "aug_noise['Sales'] += np.random.normal(0, 0.05, size=len(aug_noise))\n",
        "aug_noise['label'] = 'gaussian_noise'\n",
        "\n",
        "\n",
        "aug_roll = daily_sales.copy()\n",
        "aug_roll['Sales'] = aug_roll['Sales'].rolling(window=3, min_periods=1).mean()\n",
        "aug_roll['label'] = 'rolling_mean'\n",
        "\n",
        "aug_shift = daily_sales.copy()\n",
        "aug_shift['Sales'] = aug_shift['Sales'].shift(1).fillna(method='bfill')\n",
        "aug_shift['label'] = 'time_shift'\n",
        "\n",
        "\n",
        "augmented_all = pd.concat([aug_noise, aug_roll, aug_shift])\n",
        "augmented_all = augmented_all.sample(frac=1, random_state=42).reset_index(drop=True)\n",
        "\n",
        "\n",
        "target_size = int(0.3 * len(daily_sales))\n",
        "augmented_final = augmented_all.iloc[:target_size]\n",
        "\n",
        "\n",
        "os.makedirs(\"Augmented Data\", exist_ok=True)\n",
        "\n",
        "\n",
        "augmented_final.to_csv(\"Augmented Data/augmented_data.csv\", index=False)\n",
        "\n",
        "\n",
        "augmented_final[['Date', 'label']].to_csv(\"Augmented Data/augmented_labels.csv\", index=False)\n",
        "\n",
        "print(\" Augmented data saved to 'Augmented Data/' folder.\")\n"
      ],
      "metadata": {
        "colab": {
          "base_uri": "https://localhost:8080/"
        },
        "id": "J1NwQOEHGr0v",
        "outputId": "eb717e0a-c6fa-49fc-ab5c-e28ab818c4cf"
      },
      "execution_count": 2,
      "outputs": [
        {
          "output_type": "stream",
          "name": "stdout",
          "text": [
            " Augmented data saved to 'Augmented Data/' folder.\n"
          ]
        },
        {
          "output_type": "stream",
          "name": "stderr",
          "text": [
            "<ipython-input-2-d249f51f74a1>:34: FutureWarning: Series.fillna with 'method' is deprecated and will raise in a future version. Use obj.ffill() or obj.bfill() instead.\n",
            "  aug_shift['Sales'] = aug_shift['Sales'].shift(1).fillna(method='bfill')\n"
          ]
        }
      ]
    },
    {
      "cell_type": "code",
      "source": [
        "from google.colab import files\n",
        "files.download(\"Augmented Data/augmented_data.csv\")\n",
        "files.download(\"Augmented Data/augmented_labels.csv\")\n"
      ],
      "metadata": {
        "colab": {
          "base_uri": "https://localhost:8080/",
          "height": 17
        },
        "id": "tbZCj-LZHR5W",
        "outputId": "4eb169d5-7afd-45b6-f2b7-8eccbd9883e8"
      },
      "execution_count": 3,
      "outputs": [
        {
          "output_type": "display_data",
          "data": {
            "text/plain": [
              "<IPython.core.display.Javascript object>"
            ],
            "application/javascript": [
              "\n",
              "    async function download(id, filename, size) {\n",
              "      if (!google.colab.kernel.accessAllowed) {\n",
              "        return;\n",
              "      }\n",
              "      const div = document.createElement('div');\n",
              "      const label = document.createElement('label');\n",
              "      label.textContent = `Downloading \"${filename}\": `;\n",
              "      div.appendChild(label);\n",
              "      const progress = document.createElement('progress');\n",
              "      progress.max = size;\n",
              "      div.appendChild(progress);\n",
              "      document.body.appendChild(div);\n",
              "\n",
              "      const buffers = [];\n",
              "      let downloaded = 0;\n",
              "\n",
              "      const channel = await google.colab.kernel.comms.open(id);\n",
              "      // Send a message to notify the kernel that we're ready.\n",
              "      channel.send({})\n",
              "\n",
              "      for await (const message of channel.messages) {\n",
              "        // Send a message to notify the kernel that we're ready.\n",
              "        channel.send({})\n",
              "        if (message.buffers) {\n",
              "          for (const buffer of message.buffers) {\n",
              "            buffers.push(buffer);\n",
              "            downloaded += buffer.byteLength;\n",
              "            progress.value = downloaded;\n",
              "          }\n",
              "        }\n",
              "      }\n",
              "      const blob = new Blob(buffers, {type: 'application/binary'});\n",
              "      const a = document.createElement('a');\n",
              "      a.href = window.URL.createObjectURL(blob);\n",
              "      a.download = filename;\n",
              "      div.appendChild(a);\n",
              "      a.click();\n",
              "      div.remove();\n",
              "    }\n",
              "  "
            ]
          },
          "metadata": {}
        },
        {
          "output_type": "display_data",
          "data": {
            "text/plain": [
              "<IPython.core.display.Javascript object>"
            ],
            "application/javascript": [
              "download(\"download_86ee9f1f-7eff-486d-aace-c82e535faca5\", \"augmented_data.csv\", 25428)"
            ]
          },
          "metadata": {}
        },
        {
          "output_type": "display_data",
          "data": {
            "text/plain": [
              "<IPython.core.display.Javascript object>"
            ],
            "application/javascript": [
              "\n",
              "    async function download(id, filename, size) {\n",
              "      if (!google.colab.kernel.accessAllowed) {\n",
              "        return;\n",
              "      }\n",
              "      const div = document.createElement('div');\n",
              "      const label = document.createElement('label');\n",
              "      label.textContent = `Downloading \"${filename}\": `;\n",
              "      div.appendChild(label);\n",
              "      const progress = document.createElement('progress');\n",
              "      progress.max = size;\n",
              "      div.appendChild(progress);\n",
              "      document.body.appendChild(div);\n",
              "\n",
              "      const buffers = [];\n",
              "      let downloaded = 0;\n",
              "\n",
              "      const channel = await google.colab.kernel.comms.open(id);\n",
              "      // Send a message to notify the kernel that we're ready.\n",
              "      channel.send({})\n",
              "\n",
              "      for await (const message of channel.messages) {\n",
              "        // Send a message to notify the kernel that we're ready.\n",
              "        channel.send({})\n",
              "        if (message.buffers) {\n",
              "          for (const buffer of message.buffers) {\n",
              "            buffers.push(buffer);\n",
              "            downloaded += buffer.byteLength;\n",
              "            progress.value = downloaded;\n",
              "          }\n",
              "        }\n",
              "      }\n",
              "      const blob = new Blob(buffers, {type: 'application/binary'});\n",
              "      const a = document.createElement('a');\n",
              "      a.href = window.URL.createObjectURL(blob);\n",
              "      a.download = filename;\n",
              "      div.appendChild(a);\n",
              "      a.click();\n",
              "      div.remove();\n",
              "    }\n",
              "  "
            ]
          },
          "metadata": {}
        },
        {
          "output_type": "display_data",
          "data": {
            "text/plain": [
              "<IPython.core.display.Javascript object>"
            ],
            "application/javascript": [
              "download(\"download_732bf4c1-8448-40c0-b44b-f05cc97ac1ca\", \"augmented_labels.csv\", 10533)"
            ]
          },
          "metadata": {}
        }
      ]
    }
  ]
}